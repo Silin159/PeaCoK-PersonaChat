{
 "cells": [
  {
   "attachments": {},
   "cell_type": "markdown",
   "metadata": {},
   "source": [
    "# Embedding Full Personas\n",
    "\n",
    "## ToDo - execute embed_full_personas.py"
   ]
  },
  {
   "cell_type": "code",
   "execution_count": 1,
   "metadata": {},
   "outputs": [
    {
     "data": {
      "text/plain": [
       "18878"
      ]
     },
     "execution_count": 1,
     "metadata": {},
     "output_type": "execute_result"
    }
   ],
   "source": [
    "import pickle as pkl\n",
    "full_personas_embedded = pkl.load(open('pickled_stuff/full_persona_embeddings.pkl', 'rb'))\n",
    "\n",
    "len(full_personas_embedded)"
   ]
  },
  {
   "cell_type": "code",
   "execution_count": 2,
   "metadata": {},
   "outputs": [
    {
     "name": "stdout",
     "output_type": "stream",
     "text": [
      "dict_keys(['persona1', 'persona2', 'persona1_embeddings', 'persona2_embeddings'])\n",
      "(48, 768)\n",
      "(12, 768)\n"
     ]
    }
   ],
   "source": [
    "dialogue_id = '17878'\n",
    "dialogue_personas = full_personas_embedded[dialogue_id]\n",
    "print(dialogue_personas.keys())\n",
    "print(dialogue_personas['persona1_embeddings'].shape)\n",
    "print(dialogue_personas['persona2_embeddings'].shape)"
   ]
  },
  {
   "attachments": {},
   "cell_type": "markdown",
   "metadata": {},
   "source": [
    "# Embedding Utterances\n",
    "\n",
    "## ToDo - execute embed_utterances.py"
   ]
  },
  {
   "cell_type": "code",
   "execution_count": 3,
   "metadata": {},
   "outputs": [
    {
     "data": {
      "text/plain": [
       "1000"
      ]
     },
     "execution_count": 3,
     "metadata": {},
     "output_type": "execute_result"
    }
   ],
   "source": [
    "import pickle as pkl\n",
    "utterances_embedded = pkl.load(open('pickled_stuff/utterance_embeddings.pkl', 'rb'))\n",
    "\n",
    "len(utterances_embedded)"
   ]
  },
  {
   "cell_type": "code",
   "execution_count": 4,
   "metadata": {},
   "outputs": [
    {
     "name": "stdout",
     "output_type": "stream",
     "text": [
      "dict_keys(['persona1_utterances', 'persona2_utterances', 'persona1_utterances_embeddings', 'persona2_utterances_embeddings'])\n",
      "8\n",
      "(8, 768)\n",
      "8\n",
      "(8, 768)\n"
     ]
    }
   ],
   "source": [
    "dialogue_id = '17878'\n",
    "dialogue_utterances = utterances_embedded[dialogue_id]\n",
    "print(dialogue_utterances.keys())\n",
    "print(len(dialogue_utterances['persona1_utterances']))\n",
    "print(dialogue_utterances['persona1_utterances_embeddings'].shape)\n",
    "print(len(dialogue_utterances['persona1_utterances']))\n",
    "print(dialogue_utterances['persona2_utterances_embeddings'].shape)"
   ]
  },
  {
   "attachments": {},
   "cell_type": "markdown",
   "metadata": {},
   "source": [
    "# Preparing dialogue data for the searcher"
   ]
  },
  {
   "cell_type": "code",
   "execution_count": 5,
   "metadata": {},
   "outputs": [
    {
     "name": "stdout",
     "output_type": "stream",
     "text": [
      "48\n",
      "12\n",
      "8\n"
     ]
    }
   ],
   "source": [
    "from similarity_searcher import prepare_data_for_searcher\n",
    "\n",
    "speaker_persona_data, partner_persona_data, partner_utterance_data = \\\n",
    "    prepare_data_for_searcher(full_personas_embedded, utterances_embedded, dialogue_id)\n",
    "\n",
    "print(len(speaker_persona_data))\n",
    "print(len(partner_persona_data))\n",
    "print(len(partner_utterance_data))"
   ]
  },
  {
   "attachments": {},
   "cell_type": "markdown",
   "metadata": {},
   "source": [
    "# Inducing Partner Persona\n",
    "\n",
    "* Index full persona of the **partner**\n",
    "* Query by **partner** utterances"
   ]
  },
  {
   "cell_type": "code",
   "execution_count": 6,
   "metadata": {},
   "outputs": [],
   "source": [
    "from similarity_searcher import SimilaritySearcher\n",
    "\n",
    "partner_persona_inducer = SimilaritySearcher(partner_persona_data)\n",
    "\n",
    "induced_partner_personas = partner_persona_inducer.find(\n",
    "    partner_utterance_data, text_key='utterance'\n",
    ")"
   ]
  },
  {
   "cell_type": "code",
   "execution_count": 7,
   "metadata": {},
   "outputs": [
    {
     "data": {
      "text/plain": [
       "['hello what are doing today ?',\n",
       " 'i just got done watching a horror movie',\n",
       " 'wow ! i do love a good horror movie . loving this cooler weather',\n",
       " 'yes ! my son is in junior high and i just started letting him watch them too',\n",
       " 'neat ! ! i used to work in the human services field',\n",
       " 'yes i bet you can get hurt . my wife works and i stay at home',\n",
       " 'i bet she appreciates that very much .',\n",
       " 'my dad was always busy working at home depot']"
      ]
     },
     "execution_count": 7,
     "metadata": {},
     "output_type": "execute_result"
    }
   ],
   "source": [
    "partner_persona_inducer.query_texts"
   ]
  },
  {
   "cell_type": "code",
   "execution_count": 8,
   "metadata": {},
   "outputs": [
    {
     "data": {
      "text/plain": [
       "['i am a homemaker. here is what i regularly or consistently do: stay at home with the kids',\n",
       " 'i am a housewife. here is what i regularly or consistently do: stay at home to raise children',\n",
       " 'i am a migrant worker. here is what i did in the past: worked in the fields',\n",
       " 'i am a meterologist. here is my character trait: loves weather',\n",
       " 'i am a director. here is what i regularly or consistently do: films movies']"
      ]
     },
     "execution_count": 8,
     "metadata": {},
     "output_type": "execute_result"
    }
   ],
   "source": [
    "induced_partner_personas['texts']"
   ]
  },
  {
   "attachments": {},
   "cell_type": "markdown",
   "metadata": {},
   "source": [
    "# Retrieving Relevant Speaker Persona"
   ]
  },
  {
   "cell_type": "code",
   "execution_count": 9,
   "metadata": {},
   "outputs": [],
   "source": [
    "from similarity_searcher import prepare_induced_persona_for_searcher\n",
    "\n",
    "induced_persona_data = prepare_induced_persona_for_searcher(induced_partner_personas)"
   ]
  },
  {
   "cell_type": "code",
   "execution_count": 10,
   "metadata": {},
   "outputs": [],
   "source": [
    "speaker_persona_retriever = SimilaritySearcher(speaker_persona_data)\n",
    "\n",
    "relevant_speaker_personas = speaker_persona_retriever.find(\n",
    "    induced_persona_data, text_key='persona'\n",
    ")"
   ]
  },
  {
   "cell_type": "code",
   "execution_count": 12,
   "metadata": {},
   "outputs": [
    {
     "data": {
      "text/plain": [
       "['i am a director. here is what i regularly or consistently do: films movies',\n",
       " 'i am an oscar winner. here is what i regularly or consistently do: appear in movies',\n",
       " 'i am a single mother. here is what i regularly or consistently do: relies on my parents for help',\n",
       " 'i am a single mother. here is what i regularly or consistently do: works two jobs',\n",
       " 'i am a publisher. here is my character trait: love of books']"
      ]
     },
     "execution_count": 12,
     "metadata": {},
     "output_type": "execute_result"
    }
   ],
   "source": [
    "relevant_speaker_personas['texts']"
   ]
  },
  {
   "cell_type": "code",
   "execution_count": 13,
   "metadata": {},
   "outputs": [
    {
     "data": {
      "text/plain": [
       "['i am a homemaker. here is what i regularly or consistently do: stay at home with the kids',\n",
       " 'i am a housewife. here is what i regularly or consistently do: stay at home to raise children',\n",
       " 'i am a migrant worker. here is what i did in the past: worked in the fields',\n",
       " 'i am a meterologist. here is my character trait: loves weather',\n",
       " 'i am a director. here is what i regularly or consistently do: films movies']"
      ]
     },
     "execution_count": 13,
     "metadata": {},
     "output_type": "execute_result"
    }
   ],
   "source": [
    "induced_partner_personas['texts']"
   ]
  },
  {
   "cell_type": "code",
   "execution_count": null,
   "metadata": {},
   "outputs": [],
   "source": []
  },
  {
   "attachments": {},
   "cell_type": "markdown",
   "metadata": {},
   "source": [
    "# Wrapping into a single function"
   ]
  },
  {
   "cell_type": "code",
   "execution_count": 1,
   "metadata": {},
   "outputs": [],
   "source": [
    "import pickle as pkl\n",
    "full_personas_embedded = pkl.load(open('pickled_stuff/full_persona_embeddings.pkl', 'rb'))\n",
    "utterances_embedded = pkl.load(open('pickled_stuff/utterance_embeddings.pkl', 'rb'))"
   ]
  },
  {
   "cell_type": "code",
   "execution_count": 4,
   "metadata": {},
   "outputs": [
    {
     "name": "stderr",
     "output_type": "stream",
     "text": [
      "100%|██████████| 1000/1000 [00:01<00:00, 817.33it/s]\n"
     ]
    }
   ],
   "source": [
    "from similarity_searcher import *\n",
    "import tqdm\n",
    "\n",
    "induced_partner_personas_per_dialogue = {}\n",
    "relevant_speaker_personas_per_dialogue = {}\n",
    "for dialogue_id in tqdm.tqdm(utterances_embedded):\n",
    "    speaker_persona_data, partner_persona_data, partner_utterance_data = \\\n",
    "        prepare_data_for_searcher(full_personas_embedded, utterances_embedded, dialogue_id)\n",
    "    \n",
    "    partner_persona_inducer = SimilaritySearcher(partner_persona_data)\n",
    "    induced_partner_personas = partner_persona_inducer.find(\n",
    "        partner_utterance_data, text_key='utterance'\n",
    "    )\n",
    "\n",
    "    induced_persona_data = prepare_induced_persona_for_searcher(induced_partner_personas)\n",
    "\n",
    "    speaker_persona_retriever = SimilaritySearcher(speaker_persona_data)\n",
    "    relevant_speaker_personas = speaker_persona_retriever.find(\n",
    "        induced_persona_data, text_key='persona'\n",
    "    )\n",
    "\n",
    "    induced_partner_personas_per_dialogue[dialogue_id] = induced_partner_personas['texts']\n",
    "    relevant_speaker_personas_per_dialogue[dialogue_id] = relevant_speaker_personas['texts']\n"
   ]
  },
  {
   "cell_type": "code",
   "execution_count": 20,
   "metadata": {},
   "outputs": [],
   "source": [
    "f = open('induced_and_retrieved_persona_chat_valid.txt', 'w')\n",
    "\n",
    "for dialogue_id in utterances_embedded.keys():\n",
    "    f.write('=====================================================================\\n')\n",
    "    f.write(f'DIALOGUE ID: {dialogue_id}\\n')\n",
    "    f.write('\\n')\n",
    "\n",
    "    f.write('PARTNER UTTERANCES:\\n')\n",
    "    for u in utterances_embedded[dialogue_id]['persona2_utterances']:\n",
    "        f.write(u + '\\n')\n",
    "    f.write('\\n')\n",
    "\n",
    "    f.write('INDUCED PARTNER PERSONAS:\\n')\n",
    "    for p in induced_partner_personas_per_dialogue[dialogue_id]:\n",
    "        f.write(p + '\\n')\n",
    "    f.write('\\n')\n",
    "\n",
    "    f.write('RELEVANT SPEAKER PERSONAS:\\n')\n",
    "    for p in relevant_speaker_personas_per_dialogue[dialogue_id]:\n",
    "        f.write(p + '\\n')\n",
    "    f.write('\\n')\n",
    "\n",
    "f.close()"
   ]
  },
  {
   "cell_type": "code",
   "execution_count": null,
   "metadata": {},
   "outputs": [],
   "source": []
  }
 ],
 "metadata": {
  "kernelspec": {
   "display_name": "peacok-linking",
   "language": "python",
   "name": "peacok-linking"
  },
  "language_info": {
   "codemirror_mode": {
    "name": "ipython",
    "version": 3
   },
   "file_extension": ".py",
   "mimetype": "text/x-python",
   "name": "python",
   "nbconvert_exporter": "python",
   "pygments_lexer": "ipython3",
   "version": "3.8.16"
  },
  "orig_nbformat": 4
 },
 "nbformat": 4,
 "nbformat_minor": 2
}
