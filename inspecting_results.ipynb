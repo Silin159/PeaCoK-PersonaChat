{
 "cells": [
  {
   "cell_type": "code",
   "execution_count": 1,
   "metadata": {},
   "outputs": [],
   "source": [
    "import os\n",
    "import json\n",
    "import torch\n",
    "from transformers import BartTokenizer\n",
    "from model.modeling_bart import BartForConditionalGeneration\n",
    "from eval_utils import create_encoder_input, create_decoder_input, pad_dataset\n"
   ]
  },
  {
   "cell_type": "markdown",
   "metadata": {},
   "source": [
    "# Model setup"
   ]
  },
  {
   "cell_type": "code",
   "execution_count": 2,
   "metadata": {},
   "outputs": [],
   "source": [
    "checkpoint_dir = 'checkpoints_persona_chat_peacok_random_induced_original'\n",
    "tokenizer_checkpoint = checkpoint_dir\n",
    "model_checkpoint = os.path.join(checkpoint_dir, 'checkpoint_25_lr_7.1666220328667066e-06')\n",
    "device = 'cuda:5'"
   ]
  },
  {
   "cell_type": "code",
   "execution_count": 3,
   "metadata": {},
   "outputs": [],
   "source": [
    "tokenizer = BartTokenizer.from_pretrained(tokenizer_checkpoint)\n",
    "query_id, res_id, latent_id, persona_id, partner_id = \\\n",
    "    tokenizer.convert_tokens_to_ids([\n",
    "        '<query>', '<response>', '<latent>', '<persona>', '<partner>'\n",
    "    ])\n",
    "sep_id = tokenizer.sep_token_id\n",
    "eos_id = tokenizer.eos_token_id\n",
    "\n",
    "model_checkpoint = BartForConditionalGeneration.from_pretrained(model_checkpoint)\n",
    "model = model_checkpoint.to(device)\n",
    "model = model.eval()\n"
   ]
  },
  {
   "cell_type": "markdown",
   "metadata": {},
   "source": [
    "# Dialogue Data"
   ]
  },
  {
   "cell_type": "code",
   "execution_count": 6,
   "metadata": {},
   "outputs": [
    {
     "data": {
      "text/plain": [
       "1000"
      ]
     },
     "execution_count": 6,
     "metadata": {},
     "output_type": "execute_result"
    }
   ],
   "source": [
    "dialogues_path = '/home/cutura/mnt/home/cutura/bart_peacok/data/persona_peacok/valid_persona_original_chat_ext_random_induced.json'\n",
    "dialogues = json.load(open(dialogues_path))\n",
    "\n",
    "len(dialogues)"
   ]
  },
  {
   "cell_type": "code",
   "execution_count": 7,
   "metadata": {},
   "outputs": [
    {
     "data": {
      "text/plain": [
       "dict_keys(['persona1_ori', 'persona1_ext', 'persona2_ext', 'text', 'text_plain', 'text_plain_cands'])"
      ]
     },
     "execution_count": 7,
     "metadata": {},
     "output_type": "execute_result"
    }
   ],
   "source": [
    "dialogue_id = '17878'\n",
    "dialog = dialogues[dialogue_id]\n",
    "dialog.keys()"
   ]
  },
  {
   "cell_type": "code",
   "execution_count": 8,
   "metadata": {},
   "outputs": [
    {
     "data": {
      "text/plain": [
       "['i read twenty books a year.',\n",
       " \"i'm a stunt double as my second job.\",\n",
       " 'i only eat kosher.',\n",
       " 'i was raised in a single parent household.',\n",
       " 'i am a publisher, here is my character trait, love of books.',\n",
       " 'i am a single mother, here is what i regularly or consistently do, works two jobs.',\n",
       " 'i am a postalworker, here is my character trait, hard working.',\n",
       " 'i am a rancher, here is my character trait, hard working.',\n",
       " 'i am a stunt man, here is what i regularly or consistently do related to other people or social groups, trusts my life to the stunt coordinator.']"
      ]
     },
     "execution_count": 8,
     "metadata": {},
     "output_type": "execute_result"
    }
   ],
   "source": [
    "dialog['persona1_ori'] + dialog['persona1_ext']"
   ]
  },
  {
   "cell_type": "code",
   "execution_count": 9,
   "metadata": {},
   "outputs": [
    {
     "data": {
      "text/plain": [
       "['i am a homemaker. here is what i regularly or consistently do: stay at home with the kids',\n",
       " 'i am a housewife. here is what i regularly or consistently do: stay at home to raise children',\n",
       " 'i am a migrant worker. here is what i did in the past: worked in the fields',\n",
       " 'i am a meterologist. here is my character trait: loves weather',\n",
       " 'i am a director. here is what i regularly or consistently do: films movies']"
      ]
     },
     "execution_count": 9,
     "metadata": {},
     "output_type": "execute_result"
    }
   ],
   "source": [
    "list(dialog['persona2_ext'].values())[-1]"
   ]
  },
  {
   "cell_type": "code",
   "execution_count": 10,
   "metadata": {},
   "outputs": [
    {
     "data": {
      "text/plain": [
       "['hello what are doing today ?',\n",
       " 'i am good , i just got off work and tired , i have two jobs .',\n",
       " 'i just got done watching a horror movie',\n",
       " \"i rather read , i've read about 20 books this year .\",\n",
       " 'wow ! i do love a good horror movie . loving this cooler weather',\n",
       " 'but a good movie is always good .',\n",
       " 'yes ! my son is in junior high and i just started letting him watch them too',\n",
       " 'i work in the movies as well .',\n",
       " 'neat ! ! i used to work in the human services field',\n",
       " 'yes it is neat , i stunt double , it is so much fun and hard work .',\n",
       " 'yes i bet you can get hurt . my wife works and i stay at home',\n",
       " 'nice , i only have one parent so now i help out my mom .',\n",
       " 'i bet she appreciates that very much .',\n",
       " 'she raised me right , i am just like her .',\n",
       " 'my dad was always busy working at home depot',\n",
       " 'now that i am older home depot is my toy r us .']"
      ]
     },
     "execution_count": 10,
     "metadata": {},
     "output_type": "execute_result"
    }
   ],
   "source": [
    "history_full = []\n",
    "for turn_data in dialog['text_plain']:\n",
    "    query, response = turn_data.split('\\t')\n",
    "    history_full.append(query)\n",
    "    history_full.append(response)\n",
    "history_full"
   ]
  },
  {
   "cell_type": "markdown",
   "metadata": {},
   "source": [
    "# Generating responses"
   ]
  },
  {
   "cell_type": "code",
   "execution_count": 11,
   "metadata": {},
   "outputs": [],
   "source": [
    "def text_to_token_ids(text):\n",
    "    return [\n",
    "        tokenizer.convert_tokens_to_ids(tokenizer.tokenize(l, add_prefix_space=True))\n",
    "        for l in text\n",
    "    ]\n",
    "\n",
    "def generate_response(persona, partner, history, max_length=50, beam=2):\n",
    "    persona_token_ids = text_to_token_ids(persona)\n",
    "    partner_token_ids = text_to_token_ids(partner)\n",
    "    history_token_ids = text_to_token_ids(history)\n",
    "\n",
    "    input_ids, attention_mask, _, _ = create_encoder_input(\n",
    "        persona_token_ids, partner_token_ids, history_token_ids,\n",
    "        query_id, res_id, latent_id, persona_id, partner_id, sep_id, eos_id\n",
    "    )\n",
    "    tensor_input_ids = torch.tensor(input_ids, device=device).unsqueeze(0)\n",
    "    tensor_attention_mask = torch.tensor(attention_mask, device=device).unsqueeze(0)\n",
    "\n",
    "    with torch.no_grad():\n",
    "        out_ids = model_checkpoint.generate(\n",
    "            input_ids=tensor_input_ids,\n",
    "            attention_mask=tensor_attention_mask,\n",
    "            max_length=max_length,\n",
    "            num_beams=beam\n",
    "        )\n",
    "    out_text = tokenizer.batch_decode(\n",
    "        out_ids,\n",
    "        skip_special_tokens=True, \n",
    "        spaces_between_special_tokens=False,\n",
    "        clean_up_tokenization_spaces=False\n",
    "    )\n",
    "\n",
    "    answer = out_text[0].strip()\n",
    "    return answer\n"
   ]
  },
  {
   "cell_type": "code",
   "execution_count": 41,
   "metadata": {},
   "outputs": [],
   "source": [
    "persona = [\n",
    "    'i read twenty books a year.',\n",
    "    \"i'm a stunt double as my second job.\",\n",
    "    'i only eat kosher.',\n",
    "    'i was raised in a single parent household.',\n",
    "    'i am a publisher, here is my character trait, love of books.',\n",
    "    'i am a single mother, here is what i regularly or consistently do, works two jobs.',\n",
    "    'i am a postalworker, here is my character trait, hard working.',\n",
    "    'i am a rancher, here is my character trait, hard working.',\n",
    "    'i am a stunt man, here is what i regularly or consistently do related to other people or social groups, trusts my life to the stunt coordinator.'\n",
    "]\n",
    "\n",
    "partner = [\n",
    "    'i am a homemaker. here is what i regularly or consistently do: stay at home with the kids',\n",
    "    'i am a housewife. here is what i regularly or consistently do: stay at home to raise children',\n",
    "    'i am a migrant worker. here is what i did in the past: worked in the fields',\n",
    "    'i am a meterologist. here is my character trait: loves weather',\n",
    "    'i am a director. here is what i regularly or consistently do: films movies'\n",
    "]\n"
   ]
  },
  {
   "cell_type": "code",
   "execution_count": 26,
   "metadata": {},
   "outputs": [
    {
     "name": "stdout",
     "output_type": "stream",
     "text": [
      "hello what are doing today ?\n",
      "i am good , i just got off work and tired , i have two jobs .\n",
      "i just got done watching a horror movie\n",
      "i rather read , i've read about 20 books this year .\n",
      "wow ! i do love a good horror movie . loving this cooler weather\n",
      "but a good movie is always good .\n",
      "yes ! my son is in junior high and i just started letting him watch them too\n",
      "\n",
      "neat ! ! i used to work in the human services field\n"
     ]
    }
   ],
   "source": [
    "num_turns = 4\n",
    "\n",
    "history = history_full[ : 2 * num_turns - 1]\n",
    "gt_response = history_full[2 * num_turns]\n",
    "\n",
    "for l in history:\n",
    "    print(l)\n",
    "print()\n",
    "print(gt_response)"
   ]
  },
  {
   "cell_type": "markdown",
   "metadata": {},
   "source": [
    "## Cherry-picking facts\n",
    "\n",
    "It's able to pick the facts but only if they're highly related to the history."
   ]
  },
  {
   "cell_type": "code",
   "execution_count": 28,
   "metadata": {},
   "outputs": [
    {
     "data": {
      "text/plain": [
       "\"that is great , i was raised by a single parent so i don't have kids .\""
      ]
     },
     "execution_count": 28,
     "metadata": {},
     "output_type": "execute_result"
    }
   ],
   "source": [
    "generate_response(persona, partner, history)"
   ]
  },
  {
   "cell_type": "code",
   "execution_count": 39,
   "metadata": {},
   "outputs": [
    {
     "data": {
      "text/plain": [
       "'that is great , i have a son too .'"
      ]
     },
     "execution_count": 39,
     "metadata": {},
     "output_type": "execute_result"
    }
   ],
   "source": [
    "persona = []\n",
    "partner = [\n",
    "    \"i'm a stunt double as my second job.\",\n",
    "]\n",
    "\n",
    "generate_response(persona, partner, history)"
   ]
  },
  {
   "cell_type": "code",
   "execution_count": 43,
   "metadata": {},
   "outputs": [
    {
     "data": {
      "text/plain": [
       "\"i have a daughter , she's in kindergarten .\""
      ]
     },
     "execution_count": 43,
     "metadata": {},
     "output_type": "execute_result"
    }
   ],
   "source": [
    "persona = []\n",
    "partner = [\n",
    "    'i am a director. here is what i regularly or consistently do: films movies',\n",
    "    \"i have a daughter who is in kindergarden.\",\n",
    "]\n",
    "\n",
    "generate_response(persona, partner, history)"
   ]
  },
  {
   "cell_type": "markdown",
   "metadata": {},
   "source": [
    "## Formulating the facts\n",
    "\n",
    "* The longer one just gets rejected, probably confused it with the two jobs thing\n",
    "* The truncated one leads to a good answer"
   ]
  },
  {
   "cell_type": "code",
   "execution_count": 50,
   "metadata": {},
   "outputs": [
    {
     "data": {
      "text/plain": [
       "'that is great , i have a son too .'"
      ]
     },
     "execution_count": 50,
     "metadata": {},
     "output_type": "execute_result"
    }
   ],
   "source": [
    "persona = [\n",
    "    'i am a single mother, here is what i regularly or consistently do, works two jobs.',\n",
    "]\n",
    "partner = []\n",
    "\n",
    "generate_response(persona, partner, history)"
   ]
  },
  {
   "cell_type": "code",
   "execution_count": 51,
   "metadata": {},
   "outputs": [
    {
     "data": {
      "text/plain": [
       "'that is great , i am a single mom so it is hard .'"
      ]
     },
     "execution_count": 51,
     "metadata": {},
     "output_type": "execute_result"
    }
   ],
   "source": [
    "persona = [\n",
    "    'i am a single mother',\n",
    "]\n",
    "partner = []\n",
    "\n",
    "generate_response(persona, partner, history)"
   ]
  },
  {
   "cell_type": "markdown",
   "metadata": {},
   "source": [
    "## Revisiting history\n",
    "\n",
    "What happens if I have a fact that revisits one of the first responses?\n",
    "\n",
    "* The stronger thing prevails - fluency with the latest query"
   ]
  },
  {
   "cell_type": "code",
   "execution_count": 46,
   "metadata": {},
   "outputs": [
    {
     "data": {
      "text/plain": [
       "'that is great , i have a son too .'"
      ]
     },
     "execution_count": 46,
     "metadata": {},
     "output_type": "execute_result"
    }
   ],
   "source": [
    "persona = [\n",
    "    \"i'm a stunt double as my second job.\",\n",
    "]\n",
    "partner = []\n",
    "\n",
    "generate_response(persona, partner, history)"
   ]
  },
  {
   "cell_type": "code",
   "execution_count": 47,
   "metadata": {},
   "outputs": [
    {
     "data": {
      "text/plain": [
       "\"my daughter is in junior high , she's an actress .\""
      ]
     },
     "execution_count": 47,
     "metadata": {},
     "output_type": "execute_result"
    }
   ],
   "source": [
    "persona = [\n",
    "    \"i'm a stunt double as my second job.\",\n",
    "    \"my daughter is an actress\",\n",
    "    \"i read books all the time\"\n",
    "]\n",
    "partner = [\n",
    "]\n",
    "\n",
    "generate_response(persona, partner, history)"
   ]
  },
  {
   "cell_type": "code",
   "execution_count": null,
   "metadata": {},
   "outputs": [],
   "source": []
  },
  {
   "cell_type": "markdown",
   "metadata": {},
   "source": [
    "# Interactive stuff"
   ]
  },
  {
   "cell_type": "code",
   "execution_count": 75,
   "metadata": {},
   "outputs": [
    {
     "data": {
      "text/plain": [
       "'it is going well . how about you ?'"
      ]
     },
     "execution_count": 75,
     "metadata": {},
     "output_type": "execute_result"
    }
   ],
   "source": [
    "persona = [\n",
    "    \"i'm a stunt double as my second job.\",\n",
    "    \"my daughter is an actress\",\n",
    "    \"i read books all the time\"\n",
    "]\n",
    "# partner = [\n",
    "#     \"i am a basketball player.\",\n",
    "#     \"my steaks are the best ever.\"\n",
    "# ]\n",
    "partner = [\n",
    "    \"i am an astronaut\"\n",
    "]\n",
    "\n",
    "history = [\n",
    "    \"hey how is it going?\"\n",
    "]\n",
    "\n",
    "response = generate_response(persona, partner, history)\n",
    "response"
   ]
  },
  {
   "cell_type": "code",
   "execution_count": 76,
   "metadata": {},
   "outputs": [
    {
     "data": {
      "text/plain": [
       "'i just got back from a basketball game'"
      ]
     },
     "execution_count": 76,
     "metadata": {},
     "output_type": "execute_result"
    }
   ],
   "source": [
    "history += [response]\n",
    "history += [\"also well. just got back from a basketball game.\"]\n",
    "\n",
    "response = generate_response(persona, partner, history)\n",
    "response"
   ]
  },
  {
   "cell_type": "code",
   "execution_count": 77,
   "metadata": {},
   "outputs": [
    {
     "data": {
      "text/plain": [
       "'i am a stunt double'"
      ]
     },
     "execution_count": 77,
     "metadata": {},
     "output_type": "execute_result"
    }
   ],
   "source": [
    "history += [response]\n",
    "history += [\"what do you do for a living?\"]\n",
    "\n",
    "response = generate_response(persona, partner, history)\n",
    "response"
   ]
  },
  {
   "cell_type": "code",
   "execution_count": 78,
   "metadata": {},
   "outputs": [
    {
     "data": {
      "text/plain": [
       "'what do you do for a living'"
      ]
     },
     "execution_count": 78,
     "metadata": {},
     "output_type": "execute_result"
    }
   ],
   "source": [
    "history += [response]\n",
    "history += [\"that's very cool. i am a chef\"]\n",
    "\n",
    "response = generate_response(persona, partner, history)\n",
    "response"
   ]
  },
  {
   "cell_type": "code",
   "execution_count": null,
   "metadata": {},
   "outputs": [],
   "source": []
  },
  {
   "cell_type": "markdown",
   "metadata": {},
   "source": [
    "# Is partner persona important?"
   ]
  },
  {
   "cell_type": "code",
   "execution_count": 79,
   "metadata": {},
   "outputs": [
    {
     "data": {
      "text/plain": [
       "['.DS_Store',\n",
       " 'add_extend_peacok_facts.py',\n",
       " 'persona_extend_full_original.json',\n",
       " 'persona_extend_full_revised.json',\n",
       " 'preparing_data.ipynb',\n",
       " 'train_persona_original_chat_convai2.json',\n",
       " 'train_persona_original_chat_ext.json',\n",
       " 'train_persona_revised_chat_convai2.json',\n",
       " 'train_persona_revised_chat_ext.json',\n",
       " 'valid_persona_original_chat_convai2.json',\n",
       " 'valid_persona_original_chat_ext.json',\n",
       " 'valid_persona_revised_chat_convai2.json',\n",
       " 'valid_persona_revised_chat_ext.json',\n",
       " 'convai2_format',\n",
       " 'valid_persona_original_chat_ext_retrieved.json',\n",
       " 'train_persona_original_chat_ext_retrieved.json',\n",
       " 'valid_persona_original_chat_ext_induced.json',\n",
       " 'train_persona_original_chat_ext_induced.json',\n",
       " 'valid_persona_original_chat_ext_random_induced.json',\n",
       " 'train_persona_original_chat_ext_random_induced.json']"
      ]
     },
     "execution_count": 79,
     "metadata": {},
     "output_type": "execute_result"
    }
   ],
   "source": [
    "import os\n",
    "persona_chat_dir = '/home/cutura/mnt/home/cutura/bart_peacok/data/persona_peacok'\n",
    "os.listdir(persona_chat_dir)"
   ]
  },
  {
   "cell_type": "code",
   "execution_count": 90,
   "metadata": {},
   "outputs": [],
   "source": [
    "persona_chat_dir = '/home/cutura/mnt/home/cutura/bart_peacok/data/persona_peacok'\n",
    "persona_chat_filenames = [\n",
    "    'valid_persona_original_chat_convai2.json',\n",
    "    'train_persona_original_chat_convai2.json',\n",
    "]\n",
    "filepath = os.path.join(persona_chat_dir, persona_chat_filenames[1])\n",
    "\n",
    "dialogues = json.load(open(filepath))"
   ]
  },
  {
   "cell_type": "code",
   "execution_count": 93,
   "metadata": {},
   "outputs": [
    {
     "name": "stdout",
     "output_type": "stream",
     "text": [
      "131438 60854 56897\n"
     ]
    }
   ],
   "source": [
    "def get_history(dialogue):\n",
    "    history_full = []\n",
    "    for turn_data in dialogue['text_plain']:\n",
    "        query, response = turn_data.split('\\t')\n",
    "        history_full.append(query)\n",
    "        history_full.append(response)\n",
    "    return history_full\n",
    "\n",
    "\n",
    "line_cnt, arrogant_cnt, engaging_cnt = 0, 0, 0\n",
    "for dialogue_id, dialogue in dialogues.items():\n",
    "    history = get_history(dialogue)\n",
    "    for i, line in enumerate(history):\n",
    "        if i % 2 == 0:\n",
    "            # Consider only responses since they act as labels during training\n",
    "            continue\n",
    "        line = line.lower()\n",
    "        line_cnt += 1\n",
    "        if (\n",
    "            'you' in line or\n",
    "            '?' in line\n",
    "        ):\n",
    "            engaging_cnt += 1\n",
    "            continue\n",
    "        if (\n",
    "            line.startswith('i ') or\n",
    "            ' i ' in line or\n",
    "            'me' in line or\n",
    "            'my' in line\n",
    "        ):\n",
    "            arrogant_cnt += 1\n",
    "\n",
    "print(line_cnt, arrogant_cnt, engaging_cnt)\n",
    "    "
   ]
  },
  {
   "cell_type": "code",
   "execution_count": null,
   "metadata": {},
   "outputs": [],
   "source": []
  },
  {
   "cell_type": "code",
   "execution_count": null,
   "metadata": {},
   "outputs": [],
   "source": []
  },
  {
   "cell_type": "code",
   "execution_count": null,
   "metadata": {},
   "outputs": [],
   "source": []
  }
 ],
 "metadata": {
  "kernelspec": {
   "display_name": "Python 3 (ipykernel)",
   "language": "python",
   "name": "python3"
  },
  "language_info": {
   "codemirror_mode": {
    "name": "ipython",
    "version": 3
   },
   "file_extension": ".py",
   "mimetype": "text/x-python",
   "name": "python",
   "nbconvert_exporter": "python",
   "pygments_lexer": "ipython3",
   "version": "3.8.16"
  }
 },
 "nbformat": 4,
 "nbformat_minor": 2
}
